{
 "cells": [
  {
   "cell_type": "markdown",
   "metadata": {},
   "source": [
    "# Three Little Pigs"
   ]
  },
  {
   "cell_type": "code",
   "execution_count": 1,
   "metadata": {},
   "outputs": [
    {
     "name": "stdout",
     "output_type": "stream",
     "text": [
      "9\n"
     ]
    }
   ],
   "source": [
    "from random import randrange \n",
    "print(randrange(10))"
   ]
  },
  {
   "cell_type": "code",
   "execution_count": 2,
   "metadata": {},
   "outputs": [
    {
     "name": "stdout",
     "output_type": "stream",
     "text": [
      "0\n",
      "2\n",
      "1\n",
      "0\n",
      "0\n",
      "0\n",
      "2\n",
      "2\n",
      "2\n",
      "0\n",
      "1\n",
      "0\n",
      "0\n",
      "0\n",
      "0\n",
      "2\n",
      "1\n",
      "0\n",
      "0\n",
      "0\n",
      "2\n",
      "1\n",
      "1\n",
      "2\n",
      "0\n"
     ]
    }
   ],
   "source": [
    "for ea in range(25):\n",
    "    print(randrange(3))"
   ]
  },
  {
   "cell_type": "code",
   "execution_count": 3,
   "metadata": {},
   "outputs": [
    {
     "name": "stdout",
     "output_type": "stream",
     "text": [
      "Please select a house to build: Straw, Stick or Brick  Straw\n"
     ]
    }
   ],
   "source": [
    "pigs_house = input('Please select a house to build: Straw, Stick or Brick  ')\n",
    "\n",
    " \n",
    "while pigs_house.lower() not in ['straw', 'stick', 'brick']:\n",
    "    if pigs_house.lower() not in ['straw', 'stick', 'brick']:\n",
    "        print('Not valid, please try again')\n",
    "    pigs_house = input('Please select a house to build: Straw, Stick or Brick  ')"
   ]
  },
  {
   "cell_type": "code",
   "execution_count": 4,
   "metadata": {},
   "outputs": [],
   "source": [
    "player_score = 0"
   ]
  },
  {
   "cell_type": "code",
   "execution_count": 5,
   "metadata": {},
   "outputs": [],
   "source": [
    "wolves = {\n",
    "    'young': 6,\n",
    "    'old': 3,\n",
    "    'copd':0\n",
    "}\n",
    "\n",
    "houses = {\n",
    "    'straw' :1,\n",
    "    'stick':4,\n",
    "    'brick':7\n",
    "}"
   ]
  },
  {
   "cell_type": "code",
   "execution_count": 6,
   "metadata": {},
   "outputs": [
    {
     "data": {
      "text/plain": [
       "{'young': 6, 'old': 3, 'copd': 0}"
      ]
     },
     "execution_count": 6,
     "metadata": {},
     "output_type": "execute_result"
    }
   ],
   "source": [
    "wolves"
   ]
  },
  {
   "cell_type": "code",
   "execution_count": 11,
   "metadata": {},
   "outputs": [],
   "source": [
    "house_up = True"
   ]
  },
  {
   "cell_type": "code",
   "execution_count": 12,
   "metadata": {},
   "outputs": [],
   "source": [
    "house_points = {\n",
    "    'straw' :4,\n",
    "    'stick' :2,\n",
    "    'brick' :1\n",
    "}"
   ]
  },
  {
   "cell_type": "code",
   "execution_count": null,
   "metadata": {},
   "outputs": [],
   "source": []
  },
  {
   "cell_type": "code",
   "execution_count": 13,
   "metadata": {},
   "outputs": [
    {
     "name": "stdout",
     "output_type": "stream",
     "text": [
      "Ready for Round 1. Press enter to continue...\n",
      "Along comes a young wolf!\n",
      "He huffs and puffs and...\n"
     ]
    },
    {
     "ename": "KeyError",
     "evalue": "'Straw'",
     "output_type": "error",
     "traceback": [
      "\u001b[1;31m---------------------------------------------------------------------------\u001b[0m",
      "\u001b[1;31mKeyError\u001b[0m                                  Traceback (most recent call last)",
      "\u001b[1;32m<ipython-input-13-e0f70c6b8bef>\u001b[0m in \u001b[0;36m<module>\u001b[1;34m\u001b[0m\n\u001b[0;32m     10\u001b[0m     \u001b[0mprint\u001b[0m\u001b[1;33m(\u001b[0m\u001b[1;34m'He huffs and puffs and...'\u001b[0m\u001b[1;33m)\u001b[0m\u001b[1;33m\u001b[0m\u001b[1;33m\u001b[0m\u001b[0m\n\u001b[0;32m     11\u001b[0m \u001b[1;33m\u001b[0m\u001b[0m\n\u001b[1;32m---> 12\u001b[1;33m     \u001b[1;32mif\u001b[0m \u001b[0mwolves\u001b[0m\u001b[1;33m[\u001b[0m\u001b[0mcurrent_wolf\u001b[0m\u001b[1;33m]\u001b[0m \u001b[1;33m>\u001b[0m \u001b[0mhouses\u001b[0m\u001b[1;33m[\u001b[0m\u001b[0mpigs_house\u001b[0m\u001b[1;33m]\u001b[0m\u001b[1;33m:\u001b[0m\u001b[1;33m\u001b[0m\u001b[1;33m\u001b[0m\u001b[0m\n\u001b[0m\u001b[0;32m     13\u001b[0m         \u001b[0mhouse_up\u001b[0m \u001b[1;33m=\u001b[0m \u001b[1;32mFalse\u001b[0m\u001b[1;33m\u001b[0m\u001b[1;33m\u001b[0m\u001b[0m\n\u001b[0;32m     14\u001b[0m         \u001b[0mprint\u001b[0m\u001b[1;33m(\u001b[0m\u001b[1;34m'Your'\u001b[0m\u001b[1;33m+\u001b[0m \u001b[0mpigs_house\u001b[0m \u001b[1;33m+\u001b[0m\u001b[1;34m'house is blown down'\u001b[0m\u001b[1;33m)\u001b[0m\u001b[1;33m\u001b[0m\u001b[1;33m\u001b[0m\u001b[0m\n",
      "\u001b[1;31mKeyError\u001b[0m: 'Straw'"
     ]
    }
   ],
   "source": [
    "i = 1\n",
    "\n",
    "while house_up:\n",
    "    input ('Ready for Round ' + str(i) +'. Press enter to continue...')\n",
    "       \n",
    "    i += 1\n",
    "    \n",
    "    current_wolf = list(wolves.keys())[randrange(3)]\n",
    "    print('Along comes a', current_wolf, 'wolf!')\n",
    "    print('He huffs and puffs and...')\n",
    "    \n",
    "    if wolves[current_wolf] > houses[pigs_house]:\n",
    "        house_up = False\n",
    "        print('Your'+ pigs_house +'house is blown down')\n",
    "    else:\n",
    "        print('Your'+ pigs_house + 'house is still up')\n",
    "    if pigs_house.lower() == 'brick':\n",
    "        if randrange(10)> 8:\n",
    "            print('Oh No! an Earthqquake! YOur Brick house has been destroyed')\n",
    "            house_up = False\n",
    "    \n",
    "    player_score += house_points[pigs_house.lower()]\n",
    "\n",
    "print ('Game Over! You have scored', player_score, 'points!')"
   ]
  },
  {
   "cell_type": "code",
   "execution_count": 10,
   "metadata": {},
   "outputs": [
    {
     "data": {
      "text/plain": [
       "'Straw'"
      ]
     },
     "execution_count": 10,
     "metadata": {},
     "output_type": "execute_result"
    }
   ],
   "source": []
  },
  {
   "cell_type": "code",
   "execution_count": null,
   "metadata": {},
   "outputs": [],
   "source": []
  },
  {
   "cell_type": "code",
   "execution_count": null,
   "metadata": {},
   "outputs": [],
   "source": []
  }
 ],
 "metadata": {
  "kernelspec": {
   "display_name": "Python 3",
   "language": "python",
   "name": "python3"
  },
  "language_info": {
   "codemirror_mode": {
    "name": "ipython",
    "version": 3
   },
   "file_extension": ".py",
   "mimetype": "text/x-python",
   "name": "python",
   "nbconvert_exporter": "python",
   "pygments_lexer": "ipython3",
   "version": "3.8.3"
  }
 },
 "nbformat": 4,
 "nbformat_minor": 4
}
