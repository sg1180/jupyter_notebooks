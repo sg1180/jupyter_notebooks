{
 "cells": [
  {
   "cell_type": "markdown",
   "metadata": {},
   "source": [
    "# Three Little Pigs"
   ]
  },
  {
   "cell_type": "code",
   "execution_count": null,
   "metadata": {},
   "outputs": [],
   "source": [
    "from random import randrange \n",
    "print(randrange(10))"
   ]
  },
  {
   "cell_type": "code",
   "execution_count": null,
   "metadata": {},
   "outputs": [],
   "source": [
    "for ea in range(25):\n",
    "    print(randrange(3))"
   ]
  },
  {
   "cell_type": "code",
   "execution_count": null,
   "metadata": {},
   "outputs": [],
   "source": [
    "pigs_house = input('Please select a house to build: Straw, Stick or Brick  ')\n",
    "\n",
    " \n",
    "while pigs_house.lower() not in ['straw', 'stick', 'brick']:\n",
    "    if pigs_house.lower() not in ['straw', 'stick', 'brick']:\n",
    "        print('Not valid, please try again')\n",
    "    pigs_house = input('Please select a house to build: Straw, Stick or Brick  ')"
   ]
  },
  {
   "cell_type": "code",
   "execution_count": null,
   "metadata": {},
   "outputs": [],
   "source": [
    "player_score = 0"
   ]
  },
  {
   "cell_type": "code",
   "execution_count": null,
   "metadata": {},
   "outputs": [],
   "source": [
    "wolves = {\n",
    "    'young': 6,\n",
    "    'old': 3,\n",
    "    'copd':0\n",
    "}\n",
    "\n",
    "\n",
    "houses = {\n",
    "    'straw' :1,\n",
    "    'stick':4,\n",
    "    'brick':7\n",
    "}"
   ]
  },
  {
   "cell_type": "code",
   "execution_count": null,
   "metadata": {},
   "outputs": [],
   "source": [
    "wolves"
   ]
  },
  {
   "cell_type": "code",
   "execution_count": null,
   "metadata": {},
   "outputs": [],
   "source": [
    "house_up = True"
   ]
  },
  {
   "cell_type": "code",
   "execution_count": null,
   "metadata": {},
   "outputs": [],
   "source": [
    "house_points = {\n",
    "    'straw' :4,\n",
    "    'stick' :2,\n",
    "    'brick' :1\n",
    "}"
   ]
  },
  {
   "cell_type": "code",
   "execution_count": null,
   "metadata": {},
   "outputs": [],
   "source": [
    "i = 1\n",
    "\n",
    "while house_up:\n",
    "    input('Ready for Round' , i)\n",
    "    \n",
    "    \n",
    "    \n",
    "if wolves['old'] > houses['stick']:\n",
    "print('house is blown down')\n",
    "else:\n",
    "    print('house is still up')"
   ]
  },
  {
   "cell_type": "code",
   "execution_count": null,
   "metadata": {},
   "outputs": [],
   "source": []
  },
  {
   "cell_type": "code",
   "execution_count": null,
   "metadata": {},
   "outputs": [],
   "source": []
  }
 ],
 "metadata": {
  "kernelspec": {
   "display_name": "Python 3",
   "language": "python",
   "name": "python3"
  },
  "language_info": {
   "codemirror_mode": {
    "name": "ipython",
    "version": 3
   },
   "file_extension": ".py",
   "mimetype": "text/x-python",
   "name": "python",
   "nbconvert_exporter": "python",
   "pygments_lexer": "ipython3",
   "version": "3.8.3"
  }
 },
 "nbformat": 4,
 "nbformat_minor": 4
}
